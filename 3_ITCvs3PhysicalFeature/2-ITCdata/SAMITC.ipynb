{
 "cells": [
  {
   "cell_type": "code",
   "execution_count": 1,
   "id": "5a78bfe6",
   "metadata": {},
   "outputs": [
    {
     "data": {
      "image/png": "[encoded data removed]",
      "text/plain": [
       "<Figure size 288x252 with 1 Axes>"
      ]
     },
     "metadata": {
      "needs_background": "light"
     },
     "output_type": "display_data"
    }
   ],
   "source": [
    "import seaborn as sns\n",
    "import pandas as pd\n",
    "import matplotlib.pyplot as plt\n",
    "import numpy as np\n",
    "\n",
    "file_path = 'ITC.txt'\n",
    "data = pd.read_csv(file_path, header=None, names=['data'])\n",
    "plt.figure(figsize=(4, 3.5))\n",
    "counts, bins = np.histogram(data['data'], bins=60, density=True)\n",
    "bin_centers = 0.5 * (bins[1:] + bins[:-1])\n",
    "cmap = plt.get_cmap('coolwarm')\n",
    "colors = cmap(np.linspace(0, 1, len(counts)))\n",
    "\n",
    "for count, x, color in zip(counts, bin_centers, colors):\n",
    "    plt.bar(x, count, width=np.diff(bins), align='center', color=color, edgecolor='black')\n",
    "\n",
    "plt.xlabel(r'ITC (MW/m$^2$K)', fontsize=10, fontweight='bold')\n",
    "plt.ylabel('Probability (%)', fontsize=10, fontweight='bold') \n",
    "plt.tick_params(axis='both', which='major', labelsize=12, width=2)\n",
    "plt.title('ITC value of 300 SAMs', fontsize=13, fontweight='bold')\n",
    "plt.gca().yaxis.set_major_formatter(plt.FuncFormatter(lambda x, _: '{:.1f}'.format(x*100)))\n",
    "\n",
    "plt.gca().spines['top'].set_linewidth(2)\n",
    "plt.gca().spines['right'].set_linewidth(2)\n",
    "plt.gca().spines['bottom'].set_linewidth(2)\n",
    "plt.gca().spines['left'].set_linewidth(2)\n",
    "\n",
    "plt.xticks(fontsize=10, fontweight='bold')\n",
    "plt.yticks(fontsize=10, fontweight='bold')\n",
    "plt.tick_params(axis='both', which='major', width=2, length=6)\n",
    "\n",
    "plt.savefig('SAMITC.jpg', dpi=1000, bbox_inches='tight', pad_inches=0.1)\n",
    "plt.show()"
   ]
  },
  {
   "cell_type": "code",
   "execution_count": null,
   "id": "984f1fd6",
   "metadata": {},
   "outputs": [],
   "source": []
  }
 ],
 "metadata": {
  "kernelspec": {
   "display_name": "Python [conda env:male]",
   "language": "python",
   "name": "conda-env-male-py"
  },
  "language_info": {
   "codemirror_mode": {
    "name": "ipython",
    "version": 3
   },
   "file_extension": ".py",
   "mimetype": "text/x-python",
   "name": "python",
   "nbconvert_exporter": "python",
   "pygments_lexer": "ipython3",
   "version": "3.7.11"
  }
 },
 "nbformat": 4,
 "nbformat_minor": 5
}
